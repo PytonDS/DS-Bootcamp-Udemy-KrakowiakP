{
  "nbformat": 4,
  "nbformat_minor": 0,
  "metadata": {
    "colab": {
      "name": "Untitled0.ipynb",
      "provenance": [],
      "include_colab_link": true
    },
    "kernelspec": {
      "name": "python3",
      "display_name": "Python 3"
    },
    "language_info": {
      "name": "python"
    }
  },
  "cells": [
    {
      "cell_type": "markdown",
      "metadata": {
        "id": "view-in-github",
        "colab_type": "text"
      },
      "source": [
        "<a href=\"https://colab.research.google.com/github/PytonDS/DS-Bootcamp-Udemy-KrakowiakP/blob/main/Intro.ipynb\" target=\"_parent\"><img src=\"https://colab.research.google.com/assets/colab-badge.svg\" alt=\"Open In Colab\"/></a>"
      ]
    },
    {
      "cell_type": "code",
      "execution_count": null,
      "metadata": {
        "colab": {
          "base_uri": "https://localhost:8080/"
        },
        "id": "6f-nl0-hVJ7B",
        "outputId": "69c42b5d-12f4-4276-c6f3-1f1063cb2698"
      },
      "outputs": [
        {
          "output_type": "stream",
          "name": "stdout",
          "text": [
            "Hello Colab\n"
          ]
        }
      ],
      "source": [
        "print(\"Hello Colab\")"
      ]
    },
    {
      "cell_type": "code",
      "source": [
        "### Tekst"
      ],
      "metadata": {
        "id": "rbhDh73gVS0B"
      },
      "execution_count": null,
      "outputs": []
    },
    {
      "cell_type": "markdown",
      "source": [
        "### Tekst"
      ],
      "metadata": {
        "id": "5wvH6xE6Vn9s"
      }
    },
    {
      "cell_type": "markdown",
      "source": [
        "Added line"
      ],
      "metadata": {
        "id": "LHAe6XB4btbh"
      }
    },
    {
      "cell_type": "code",
      "source": [
        ""
      ],
      "metadata": {
        "id": "k7d1XQ7_buwR"
      },
      "execution_count": null,
      "outputs": []
    }
  ]
}